{
  "nbformat": 4,
  "nbformat_minor": 0,
  "metadata": {
    "colab": {
      "name": "Projekt01-LinearRegression.ipynb",
      "provenance": [],
      "collapsed_sections": [],
      "toc_visible": true
    },
    "kernelspec": {
      "name": "python3",
      "display_name": "Python 3"
    }
  },
  "cells": [
    {
      "cell_type": "markdown",
      "metadata": {
        "id": "c7BPZu-fSRZJ",
        "colab_type": "text"
      },
      "source": [
        "# PROJEKT 01 - lineare regression mit Tensorflow\n"
      ]
    },
    {
      "cell_type": "code",
      "metadata": {
        "id": "9mJ5zLubSoCT",
        "colab_type": "code",
        "colab": {}
      },
      "source": [
        "import tensorflow as tf\n",
        "import numpy as np\n",
        "import matplotlib\n",
        "import matplotlib.pyplot as plt\n",
        "import seaborn as sns\n",
        "%matplotlib inline\n"
      ],
      "execution_count": 0,
      "outputs": []
    },
    {
      "cell_type": "markdown",
      "metadata": {
        "id": "hEAdTYGjSZia",
        "colab_type": "text"
      },
      "source": [
        "## 1.1 - Datengenerierung und Visualisierung"
      ]
    },
    {
      "cell_type": "code",
      "metadata": {
        "id": "a3arePGuSjhz",
        "colab_type": "code",
        "colab": {}
      },
      "source": [
        "np.random.seed(42) # für gleiche Zufallswerte\n",
        "\n",
        "my_weight = 4 # später vom modell geändert\n",
        "\n",
        "# Ein array von 100 Werten wird generiert\n",
        "input = np.arange(0, 10, 0.1)\n",
        "noise = np.random.randint(low=-5, high=5, size=input.shape)\n",
        "\n",
        "# Damit die Ausgabewerte nicht nur linear sind werden Zufallswerte hinzugefügt\n",
        "output = my_weight * input + noise"
      ],
      "execution_count": 0,
      "outputs": []
    },
    {
      "cell_type": "code",
      "metadata": {
        "id": "9z0V5lYSTv8M",
        "colab_type": "code",
        "colab": {
          "base_uri": "https://localhost:8080/",
          "height": 282
        },
        "outputId": "5853f83a-523c-4639-d8c1-09be57e4ae69"
      },
      "source": [
        "sns.scatterplot(input, output)"
      ],
      "execution_count": 4,
      "outputs": [
        {
          "output_type": "execute_result",
          "data": {
            "text/plain": [
              "<matplotlib.axes._subplots.AxesSubplot at 0x7effd5a3f470>"
            ]
          },
          "metadata": {
            "tags": []
          },
          "execution_count": 4
        },
        {
          "output_type": "display_data",
          "data": {
            "image/png": "[encoded data removed]",
            "text/plain": [
              "<Figure size 432x288 with 1 Axes>"
            ]
          },
          "metadata": {
            "tags": []
          }
        }
      ]
    },
    {
      "cell_type": "markdown",
      "metadata": {
        "id": "JB1rSecHUBmu",
        "colab_type": "text"
      },
      "source": [
        "## 1.2 - Modell erstellen"
      ]
    },
    {
      "cell_type": "code",
      "metadata": {
        "id": "IC_Q4crkT66W",
        "colab_type": "code",
        "colab": {}
      },
      "source": [
        "def linear_regression_model(X, w, b):\n",
        "  return tf.add(tf.multiply(X, w), b)"
      ],
      "execution_count": 0,
      "outputs": []
    },
    {
      "cell_type": "code",
      "metadata": {
        "id": "PyIjr14PUVsU",
        "colab_type": "code",
        "colab": {}
      },
      "source": [
        "X = tf.placeholder(tf.float32, name=\"X\")\n",
        "Y = tf.placeholder(tf.float32, name=\"Y\")\n",
        "\n",
        "w = tf.Variable(0.0, name=\"weights\")\n",
        "b = tf.Variable(0.0, name=\"bias\")"
      ],
      "execution_count": 0,
      "outputs": []
    },
    {
      "cell_type": "code",
      "metadata": {
        "id": "5h6Hi-PYUswU",
        "colab_type": "code",
        "colab": {}
      },
      "source": [
        "cost = tf.square(Y - linear_regression_model(X, w, b))"
      ],
      "execution_count": 0,
      "outputs": []
    },
    {
      "cell_type": "code",
      "metadata": {
        "id": "ay9EegiDUz9s",
        "colab_type": "code",
        "colab": {}
      },
      "source": [
        "train_op = tf.train.GradientDescentOptimizer(0.01).minimize(cost)"
      ],
      "execution_count": 0,
      "outputs": []
    },
    {
      "cell_type": "markdown",
      "metadata": {
        "id": "Vas7B660U_Hu",
        "colab_type": "text"
      },
      "source": [
        "## 1.3 - Model trainieren"
      ]
    },
    {
      "cell_type": "code",
      "metadata": {
        "id": "D6wdGWNUU8vl",
        "colab_type": "code",
        "colab": {
          "base_uri": "https://localhost:8080/",
          "height": 1000
        },
        "outputId": "6a80f8d4-0d08-4fd6-c18e-606dbae40a0f"
      },
      "source": [
        "epochs = range(0,100)\n",
        "\n",
        "recording = {\"w\":[], \"b\":[]}\n",
        "\n",
        "with tf.Session() as sess:\n",
        "  sess.run(tf.global_variables_initializer())\n",
        "  for i in epochs:\n",
        "    for (x,y) in zip(input, output):\n",
        "      sess.run(train_op, feed_dict={X:x, Y:y})\n",
        "    # Gewichtungen und bias werden berechnet\n",
        "    weight_value = sess.run(w)\n",
        "    bias_value = sess.run(b)\n",
        "    # Debug output\n",
        "    recording[\"w\"] += [weight_value]\n",
        "    recording[\"b\"] += [bias_value]\n",
        "    print('Epoch {0}/{1} --- weight: {2} - bias: {3}'.format(i, len(epochs), weight_value, bias_value))"
      ],
      "execution_count": 10,
      "outputs": [
        {
          "output_type": "stream",
          "text": [
            "Epoch 0/100 --- weight: 3.927600860595703 - bias: 1.9941253662109375\n",
            "Epoch 1/100 --- weight: 3.9774057865142822 - bias: 1.498550295829773\n",
            "Epoch 2/100 --- weight: 4.016592979431152 - bias: 1.108627200126648\n",
            "Epoch 3/100 --- weight: 4.047425746917725 - bias: 0.8018314242362976\n",
            "Epoch 4/100 --- weight: 4.071684837341309 - bias: 0.5604418516159058\n",
            "Epoch 5/100 --- weight: 4.090773582458496 - bias: 0.37051430344581604\n",
            "Epoch 6/100 --- weight: 4.105792045593262 - bias: 0.22107753157615662\n",
            "Epoch 7/100 --- weight: 4.117609024047852 - bias: 0.10349871218204498\n",
            "Epoch 8/100 --- weight: 4.126906394958496 - bias: 0.010986880399286747\n",
            "Epoch 9/100 --- weight: 4.134220600128174 - bias: -0.061802707612514496\n",
            "Epoch 10/100 --- weight: 4.139976501464844 - bias: -0.11907341331243515\n",
            "Epoch 11/100 --- weight: 4.144505500793457 - bias: -0.16413486003875732\n",
            "Epoch 12/100 --- weight: 4.148069858551025 - bias: -0.1995897740125656\n",
            "Epoch 13/100 --- weight: 4.150871276855469 - bias: -0.22748687863349915\n",
            "Epoch 14/100 --- weight: 4.153078556060791 - bias: -0.24943514168262482\n",
            "Epoch 15/100 --- weight: 4.154813766479492 - bias: -0.2667050361633301\n",
            "Epoch 16/100 --- weight: 4.1561808586120605 - bias: -0.2802928686141968\n",
            "Epoch 17/100 --- weight: 4.157254695892334 - bias: -0.29098445177078247\n",
            "Epoch 18/100 --- weight: 4.15809965133667 - bias: -0.2993965148925781\n",
            "Epoch 19/100 --- weight: 4.1587653160095215 - bias: -0.306015282869339\n",
            "Epoch 20/100 --- weight: 4.159287929534912 - bias: -0.31122303009033203\n",
            "Epoch 21/100 --- weight: 4.159699440002441 - bias: -0.31532004475593567\n",
            "Epoch 22/100 --- weight: 4.1600236892700195 - bias: -0.3185434639453888\n",
            "Epoch 23/100 --- weight: 4.160279273986816 - bias: -0.32108038663864136\n",
            "Epoch 24/100 --- weight: 4.160479545593262 - bias: -0.3230763077735901\n",
            "Epoch 25/100 --- weight: 4.160637855529785 - bias: -0.32464665174484253\n",
            "Epoch 26/100 --- weight: 4.16076135635376 - bias: -0.32588303089141846\n",
            "Epoch 27/100 --- weight: 4.16085958480835 - bias: -0.3268553614616394\n",
            "Epoch 28/100 --- weight: 4.160935401916504 - bias: -0.32762032747268677\n",
            "Epoch 29/100 --- weight: 4.1609978675842285 - bias: -0.3282219469547272\n",
            "Epoch 30/100 --- weight: 4.161044597625732 - bias: -0.32869571447372437\n",
            "Epoch 31/100 --- weight: 4.161081790924072 - bias: -0.3290686309337616\n",
            "Epoch 32/100 --- weight: 4.161110877990723 - bias: -0.3293614089488983\n",
            "Epoch 33/100 --- weight: 4.161135196685791 - bias: -0.3295915424823761\n",
            "Epoch 34/100 --- weight: 4.161152362823486 - bias: -0.32977405190467834\n",
            "Epoch 35/100 --- weight: 4.161167144775391 - bias: -0.3299168348312378\n",
            "Epoch 36/100 --- weight: 4.161177158355713 - bias: -0.33002936840057373\n",
            "Epoch 37/100 --- weight: 4.161186695098877 - bias: -0.3301164507865906\n",
            "Epoch 38/100 --- weight: 4.161194324493408 - bias: -0.33018627762794495\n",
            "Epoch 39/100 --- weight: 4.161198616027832 - bias: -0.3302411735057831\n",
            "Epoch 40/100 --- weight: 4.161202907562256 - bias: -0.3302838206291199\n",
            "Epoch 41/100 --- weight: 4.161207675933838 - bias: -0.33031678199768066\n",
            "Epoch 42/100 --- weight: 4.1612091064453125 - bias: -0.3303445279598236\n",
            "Epoch 43/100 --- weight: 4.161211013793945 - bias: -0.330365389585495\n",
            "Epoch 44/100 --- weight: 4.1612138748168945 - bias: -0.33038121461868286\n",
            "Epoch 45/100 --- weight: 4.161213397979736 - bias: -0.3303949236869812\n",
            "Epoch 46/100 --- weight: 4.161216735839844 - bias: -0.33040428161621094\n",
            "Epoch 47/100 --- weight: 4.161217212677002 - bias: -0.33041253685951233\n",
            "Epoch 48/100 --- weight: 4.16121768951416 - bias: -0.3304189145565033\n",
            "Epoch 49/100 --- weight: 4.161219120025635 - bias: -0.3304237723350525\n",
            "Epoch 50/100 --- weight: 4.161218643188477 - bias: -0.33042818307876587\n",
            "Epoch 51/100 --- weight: 4.161220073699951 - bias: -0.3304313123226166\n",
            "Epoch 52/100 --- weight: 4.161219120025635 - bias: -0.33043453097343445\n",
            "Epoch 53/100 --- weight: 4.161219120025635 - bias: -0.3304358720779419\n",
            "Epoch 54/100 --- weight: 4.161219120025635 - bias: -0.33043715357780457\n",
            "Epoch 55/100 --- weight: 4.161219120025635 - bias: -0.3304379880428314\n",
            "Epoch 56/100 --- weight: 4.161220073699951 - bias: -0.33043843507766724\n",
            "Epoch 57/100 --- weight: 4.161220073699951 - bias: -0.33043918013572693\n",
            "Epoch 58/100 --- weight: 4.161219596862793 - bias: -0.3304397463798523\n",
            "Epoch 59/100 --- weight: 4.161219596862793 - bias: -0.33044007420539856\n",
            "Epoch 60/100 --- weight: 4.161218166351318 - bias: -0.3304404616355896\n",
            "Epoch 61/100 --- weight: 4.161219596862793 - bias: -0.3304397761821747\n",
            "Epoch 62/100 --- weight: 4.161219596862793 - bias: -0.33044007420539856\n",
            "Epoch 63/100 --- weight: 4.161218166351318 - bias: -0.3304404616355896\n",
            "Epoch 64/100 --- weight: 4.161219596862793 - bias: -0.3304397761821747\n",
            "Epoch 65/100 --- weight: 4.161219596862793 - bias: -0.33044007420539856\n",
            "Epoch 66/100 --- weight: 4.161218166351318 - bias: -0.3304404616355896\n",
            "Epoch 67/100 --- weight: 4.161219596862793 - bias: -0.3304397761821747\n",
            "Epoch 68/100 --- weight: 4.161219596862793 - bias: -0.33044007420539856\n",
            "Epoch 69/100 --- weight: 4.161218166351318 - bias: -0.3304404616355896\n",
            "Epoch 70/100 --- weight: 4.161219596862793 - bias: -0.3304397761821747\n",
            "Epoch 71/100 --- weight: 4.161219596862793 - bias: -0.33044007420539856\n",
            "Epoch 72/100 --- weight: 4.161218166351318 - bias: -0.3304404616355896\n",
            "Epoch 73/100 --- weight: 4.161219596862793 - bias: -0.3304397761821747\n",
            "Epoch 74/100 --- weight: 4.161219596862793 - bias: -0.33044007420539856\n",
            "Epoch 75/100 --- weight: 4.161218166351318 - bias: -0.3304404616355896\n",
            "Epoch 76/100 --- weight: 4.161219596862793 - bias: -0.3304397761821747\n",
            "Epoch 77/100 --- weight: 4.161219596862793 - bias: -0.33044007420539856\n",
            "Epoch 78/100 --- weight: 4.161218166351318 - bias: -0.3304404616355896\n",
            "Epoch 79/100 --- weight: 4.161219596862793 - bias: -0.3304397761821747\n",
            "Epoch 80/100 --- weight: 4.161219596862793 - bias: -0.33044007420539856\n",
            "Epoch 81/100 --- weight: 4.161218166351318 - bias: -0.3304404616355896\n",
            "Epoch 82/100 --- weight: 4.161219596862793 - bias: -0.3304397761821747\n",
            "Epoch 83/100 --- weight: 4.161219596862793 - bias: -0.33044007420539856\n",
            "Epoch 84/100 --- weight: 4.161218166351318 - bias: -0.3304404616355896\n",
            "Epoch 85/100 --- weight: 4.161219596862793 - bias: -0.3304397761821747\n",
            "Epoch 86/100 --- weight: 4.161219596862793 - bias: -0.33044007420539856\n",
            "Epoch 87/100 --- weight: 4.161218166351318 - bias: -0.3304404616355896\n",
            "Epoch 88/100 --- weight: 4.161219596862793 - bias: -0.3304397761821747\n",
            "Epoch 89/100 --- weight: 4.161219596862793 - bias: -0.33044007420539856\n",
            "Epoch 90/100 --- weight: 4.161218166351318 - bias: -0.3304404616355896\n",
            "Epoch 91/100 --- weight: 4.161219596862793 - bias: -0.3304397761821747\n",
            "Epoch 92/100 --- weight: 4.161219596862793 - bias: -0.33044007420539856\n",
            "Epoch 93/100 --- weight: 4.161218166351318 - bias: -0.3304404616355896\n",
            "Epoch 94/100 --- weight: 4.161219596862793 - bias: -0.3304397761821747\n",
            "Epoch 95/100 --- weight: 4.161219596862793 - bias: -0.33044007420539856\n",
            "Epoch 96/100 --- weight: 4.161218166351318 - bias: -0.3304404616355896\n",
            "Epoch 97/100 --- weight: 4.161219596862793 - bias: -0.3304397761821747\n",
            "Epoch 98/100 --- weight: 4.161219596862793 - bias: -0.33044007420539856\n",
            "Epoch 99/100 --- weight: 4.161218166351318 - bias: -0.3304404616355896\n"
          ],
          "name": "stdout"
        }
      ]
    },
    {
      "cell_type": "code",
      "metadata": {
        "id": "KaYzCNH2WBEt",
        "colab_type": "code",
        "colab": {
          "base_uri": "https://localhost:8080/",
          "height": 282
        },
        "outputId": "7ae464cd-c336-487e-dad8-a9cbe8539d9c"
      },
      "source": [
        "sns.lineplot(epochs, recording[\"w\"], label=\"Weights\")\n",
        "sns.lineplot(epochs, recording[\"b\"], label=\"Bias\", legend='brief')"
      ],
      "execution_count": 18,
      "outputs": [
        {
          "output_type": "execute_result",
          "data": {
            "text/plain": [
              "<matplotlib.axes._subplots.AxesSubplot at 0x7effc2a72748>"
            ]
          },
          "metadata": {
            "tags": []
          },
          "execution_count": 18
        },
        {
          "output_type": "display_data",
          "data": {
            "image/png": "[encoded data removed]",
            "text/plain": [
              "<Figure size 432x288 with 1 Axes>"
            ]
          },
          "metadata": {
            "tags": []
          }
        }
      ]
    },
    {
      "cell_type": "markdown",
      "metadata": {
        "id": "kTXFb7tqXyd2",
        "colab_type": "text"
      },
      "source": [
        "## 1.4 - Model benutzen und ergebnisse visualisieren"
      ]
    },
    {
      "cell_type": "code",
      "metadata": {
        "id": "e4MOTeJEWrZ1",
        "colab_type": "code",
        "colab": {}
      },
      "source": [
        "with tf.Session() as sess:\n",
        "  sess.run(tf.global_variables_initializer())\n",
        "  for i in epochs:\n",
        "    for (x,y) in zip(input, output):\n",
        "      sess.run(train_op, feed_dict={X:x, Y:y})\n",
        "    # Gewichtungen und bias werden berechnet\n",
        "    weight_value = sess.run(w)\n",
        "    bias_value = sess.run(b)\n",
        "  predicted_output = sess.run(linear_regression_model(input, weight_value, bias_value))"
      ],
      "execution_count": 0,
      "outputs": []
    },
    {
      "cell_type": "code",
      "metadata": {
        "id": "wVlOALDpYL2A",
        "colab_type": "code",
        "colab": {
          "base_uri": "https://localhost:8080/",
          "height": 282
        },
        "outputId": "79c3246a-54ce-4035-bea2-f5fb359210d0"
      },
      "source": [
        "sns.scatterplot(input, output, label=\"original Werte\")\n",
        "sns.scatterplot(input, predicted_output, label=\"Vorhersage\")"
      ],
      "execution_count": 23,
      "outputs": [
        {
          "output_type": "execute_result",
          "data": {
            "text/plain": [
              "<matplotlib.axes._subplots.AxesSubplot at 0x7effc2a72e80>"
            ]
          },
          "metadata": {
            "tags": []
          },
          "execution_count": 23
        },
        {
          "output_type": "display_data",
          "data": {
            "image/png": "[encoded data removed]",
            "text/plain": [
              "<Figure size 432x288 with 1 Axes>"
            ]
          },
          "metadata": {
            "tags": []
          }
        }
      ]
    }
  ]
}